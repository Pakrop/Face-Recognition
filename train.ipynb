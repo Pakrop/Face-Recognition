{
 "cells": [
  {
   "cell_type": "code",
   "execution_count": 1,
   "metadata": {},
   "outputs": [
    {
     "ename": "error",
     "evalue": "OpenCV(4.6.0) D:\\a\\opencv-python\\opencv-python\\opencv\\modules\\imgproc\\src\\resize.cpp:4052: error: (-215:Assertion failed) !ssize.empty() in function 'cv::resize'\n",
     "output_type": "error",
     "traceback": [
      "\u001b[1;31m---------------------------------------------------------------------------\u001b[0m",
      "\u001b[1;31merror\u001b[0m                                     Traceback (most recent call last)",
      "Input \u001b[1;32mIn [1]\u001b[0m, in \u001b[0;36m<cell line: 59>\u001b[1;34m()\u001b[0m\n\u001b[0;32m     57\u001b[0m     \u001b[38;5;28;01mreturn\u001b[39;00m [face_model, people]    \n\u001b[0;32m     59\u001b[0m \u001b[38;5;28;01mif\u001b[39;00m \u001b[38;5;18m__name__\u001b[39m\u001b[38;5;241m==\u001b[39m \u001b[38;5;124m\"\u001b[39m\u001b[38;5;124m__main__\u001b[39m\u001b[38;5;124m\"\u001b[39m:\n\u001b[1;32m---> 60\u001b[0m     face_model, people \u001b[38;5;241m=\u001b[39m \u001b[43mtrain_model\u001b[49m\u001b[43m(\u001b[49m\u001b[43mtrain_path\u001b[49m\u001b[43m)\u001b[49m    \n\u001b[0;32m     61\u001b[0m     face_model\u001b[38;5;241m.\u001b[39mwrite(\u001b[38;5;124m'\u001b[39m\u001b[38;5;124mfacemodel.xml\u001b[39m\u001b[38;5;124m'\u001b[39m) \n\u001b[0;32m     62\u001b[0m     \u001b[38;5;28mprint\u001b[39m(\u001b[38;5;124m'\u001b[39m\u001b[38;5;124msaved model..\u001b[39m\u001b[38;5;124m'\u001b[39m)\n",
      "Input \u001b[1;32mIn [1]\u001b[0m, in \u001b[0;36mtrain_model\u001b[1;34m(path)\u001b[0m\n\u001b[0;32m     41\u001b[0m \u001b[38;5;28;01mdef\u001b[39;00m \u001b[38;5;21mtrain_model\u001b[39m(path):\n\u001b[1;32m---> 42\u001b[0m     [images, labels, people] \u001b[38;5;241m=\u001b[39m \u001b[43mget_images\u001b[49m\u001b[43m(\u001b[49m\u001b[43mtrain_path\u001b[49m\u001b[43m,\u001b[49m\u001b[43m \u001b[49m\u001b[43mimg_pixel\u001b[49m\u001b[43m)\u001b[49m \u001b[38;5;66;03m# ksb\u001b[39;00m\n\u001b[0;32m     45\u001b[0m     labels \u001b[38;5;241m=\u001b[39m np\u001b[38;5;241m.\u001b[39masarray(labels, dtype\u001b[38;5;241m=\u001b[39m np\u001b[38;5;241m.\u001b[39mint32)\n\u001b[0;32m     46\u001b[0m     \u001b[38;5;28mprint\u001b[39m(\u001b[38;5;124m'\u001b[39m\u001b[38;5;124mTotal trained images: \u001b[39m\u001b[38;5;132;01m{}\u001b[39;00m\u001b[38;5;124m'\u001b[39m\u001b[38;5;241m.\u001b[39mformat(\u001b[38;5;28mlen\u001b[39m(labels)))\n",
      "Input \u001b[1;32mIn [1]\u001b[0m, in \u001b[0;36mget_images\u001b[1;34m(path, size)\u001b[0m\n\u001b[0;32m     26\u001b[0m \u001b[38;5;28;01mfor\u001b[39;00m image \u001b[38;5;129;01min\u001b[39;00m os\u001b[38;5;241m.\u001b[39mlistdir(path \u001b[38;5;241m+\u001b[39m subdir):\n\u001b[0;32m     28\u001b[0m     img\u001b[38;5;241m=\u001b[39m cv2\u001b[38;5;241m.\u001b[39mimread(path\u001b[38;5;241m+\u001b[39mos\u001b[38;5;241m.\u001b[39mpath\u001b[38;5;241m.\u001b[39msep\u001b[38;5;241m+\u001b[39msubdir\u001b[38;5;241m+\u001b[39mos\u001b[38;5;241m.\u001b[39mpath\u001b[38;5;241m.\u001b[39msep\u001b[38;5;241m+\u001b[39mimage, cv2\u001b[38;5;241m.\u001b[39mIMREAD_GRAYSCALE)\n\u001b[1;32m---> 29\u001b[0m     img\u001b[38;5;241m=\u001b[39m \u001b[43mcv2\u001b[49m\u001b[38;5;241;43m.\u001b[39;49m\u001b[43mresize\u001b[49m\u001b[43m(\u001b[49m\u001b[43mimg\u001b[49m\u001b[43m,\u001b[49m\u001b[43m \u001b[49m\u001b[43msize\u001b[49m\u001b[43m)\u001b[49m\n\u001b[0;32m     31\u001b[0m     images\u001b[38;5;241m.\u001b[39mappend(np\u001b[38;5;241m.\u001b[39masarray(img, dtype\u001b[38;5;241m=\u001b[39m np\u001b[38;5;241m.\u001b[39muint8))\n\u001b[0;32m     32\u001b[0m     labels\u001b[38;5;241m.\u001b[39mappend(class_id)\n",
      "\u001b[1;31merror\u001b[0m: OpenCV(4.6.0) D:\\a\\opencv-python\\opencv-python\\opencv\\modules\\imgproc\\src\\resize.cpp:4052: error: (-215:Assertion failed) !ssize.empty() in function 'cv::resize'\n"
     ]
    }
   ],
   "source": [
    "train_path = './img_features_label/'\n",
    "input_path = './'\n",
    "label_file = './labels.csv' \n",
    "\n",
    "casc_file = \"haarcascade_frontalface_default.xml\"\n",
    "\n",
    "import cv2  \n",
    "import numpy as np\n",
    "import os, sys, time\n",
    "import pandas as pd\n",
    "\n",
    "img_pixel = (96, 96) \n",
    "\n",
    "def save_labels(people):\n",
    "    df = pd.DataFrame(people, columns=['name'])\n",
    "    df.to_csv(label_file)\n",
    "    print('Saved labels..')\n",
    "    print(people)\n",
    "\n",
    "def get_images(path, size):\n",
    "    class_id = 0  # target or class of the face\n",
    "    images, labels= [], []\n",
    "    people= []\n",
    "\n",
    "    for subdir in os.listdir(path):\n",
    "        for image in os.listdir(path + subdir):\n",
    "\n",
    "            img= cv2.imread(path+os.path.sep+subdir+os.path.sep+image, cv2.IMREAD_GRAYSCALE)\n",
    "            img= cv2.resize(img, size)\n",
    "\n",
    "            images.append(np.asarray(img, dtype= np.uint8))\n",
    "            labels.append(class_id)\n",
    "\n",
    "\n",
    "        people.append(subdir)\n",
    "        class_id += 1\n",
    "\n",
    "    return [images, labels, people]\n",
    "\n",
    "\n",
    "def train_model(path):\n",
    "    [images, labels, people] = get_images(train_path, img_pixel) # ksb\n",
    "\n",
    "\n",
    "    labels = np.asarray(labels, dtype= np.int32)\n",
    "    print('Total trained images: {}'.format(len(labels)))\n",
    "    print('Total classes : {}'.format(len(people)))\n",
    "\n",
    "    # initializing eigen_model and training\n",
    "    print(\"\\nInitializing FaceRecognizer and training...\")\n",
    "    sttime= time.time()\n",
    "    face_model= cv2.face.LBPHFaceRecognizer_create()\n",
    "    face_model.train(images, labels)\n",
    "\n",
    "    print(\"\\nCompleted training in {:.2f} s.\\n\" .format(time.time()- sttime))\n",
    "\n",
    "    return [face_model, people]    \n",
    "\n",
    "if __name__== \"__main__\":\n",
    "    face_model, people = train_model(train_path)    \n",
    "    face_model.write('facemodel.xml') \n",
    "    print('saved model..')\n",
    "    save_labels(people)\n"
   ]
  },
  {
   "cell_type": "code",
   "execution_count": null,
   "metadata": {},
   "outputs": [],
   "source": []
  },
  {
   "cell_type": "code",
   "execution_count": null,
   "metadata": {},
   "outputs": [],
   "source": []
  }
 ],
 "metadata": {
  "kernelspec": {
   "display_name": "Python 3 (ipykernel)",
   "language": "python",
   "name": "python3"
  },
  "language_info": {
   "codemirror_mode": {
    "name": "ipython",
    "version": 3
   },
   "file_extension": ".py",
   "mimetype": "text/x-python",
   "name": "python",
   "nbconvert_exporter": "python",
   "pygments_lexer": "ipython3",
   "version": "3.9.12"
  }
 },
 "nbformat": 4,
 "nbformat_minor": 4
}
