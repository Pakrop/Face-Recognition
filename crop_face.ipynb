{
 "cells": [
  {
   "cell_type": "code",
   "execution_count": 3,
   "metadata": {},
   "outputs": [
    {
     "data": {
      "text/plain": [
       "'4.0.1'"
      ]
     },
     "execution_count": 3,
     "metadata": {},
     "output_type": "execute_result"
    }
   ],
   "source": []
  },
  {
   "cell_type": "code",
   "execution_count": 1,
   "metadata": {},
   "outputs": [
    {
     "name": "stdout",
     "output_type": "stream",
     "text": [
      "Starting to detect faces and save the cropped images...\n",
      "img_people/.ipynb_checkpoints\n"
     ]
    },
    {
     "ename": "error",
     "evalue": "OpenCV(4.6.0) D:\\a\\opencv-python\\opencv-python\\opencv\\modules\\imgproc\\src\\color.cpp:182: error: (-215:Assertion failed) !_src.empty() in function 'cv::cvtColor'\n",
     "output_type": "error",
     "traceback": [
      "\u001b[1;31m---------------------------------------------------------------------------\u001b[0m",
      "\u001b[1;31merror\u001b[0m                                     Traceback (most recent call last)",
      "Input \u001b[1;32mIn [1]\u001b[0m, in \u001b[0;36m<cell line: 21>\u001b[1;34m()\u001b[0m\n\u001b[0;32m     28\u001b[0m         \u001b[38;5;28mprint\u001b[39m(input_path \u001b[38;5;241m+\u001b[39m fname)\n\u001b[0;32m     29\u001b[0m         color_img\u001b[38;5;241m=\u001b[39m cv2\u001b[38;5;241m.\u001b[39mimread(input_path \u001b[38;5;241m+\u001b[39m fname)\n\u001b[1;32m---> 31\u001b[0m         gray_img\u001b[38;5;241m=\u001b[39m \u001b[43mcv2\u001b[49m\u001b[38;5;241;43m.\u001b[39;49m\u001b[43mcvtColor\u001b[49m\u001b[43m(\u001b[49m\u001b[43mcolor_img\u001b[49m\u001b[43m,\u001b[49m\u001b[43m \u001b[49m\u001b[43mcv2\u001b[49m\u001b[38;5;241;43m.\u001b[39;49m\u001b[43mCOLOR_BGR2GRAY\u001b[49m\u001b[43m)\u001b[49m\n\u001b[0;32m     34\u001b[0m         bBoxes\u001b[38;5;241m=\u001b[39m frontal_face\u001b[38;5;241m.\u001b[39mdetectMultiScale(gray_img, scaleFactor\u001b[38;5;241m=\u001b[39m\u001b[38;5;241m1.3\u001b[39m, \n\u001b[0;32m     35\u001b[0m                                               minNeighbors\u001b[38;5;241m=\u001b[39m\u001b[38;5;241m5\u001b[39m, \n\u001b[0;32m     36\u001b[0m                                               minSize\u001b[38;5;241m=\u001b[39m(\u001b[38;5;241m30\u001b[39m, \u001b[38;5;241m30\u001b[39m),\n\u001b[0;32m     37\u001b[0m \u001b[38;5;66;03m#                                               flags = cv.CV_HAAR_SCALE_IMAGE\u001b[39;00m\n\u001b[0;32m     38\u001b[0m                                              )\n\u001b[0;32m     40\u001b[0m         \u001b[38;5;28;01mfor\u001b[39;00m box \u001b[38;5;129;01min\u001b[39;00m bBoxes:\n",
      "\u001b[1;31merror\u001b[0m: OpenCV(4.6.0) D:\\a\\opencv-python\\opencv-python\\opencv\\modules\\imgproc\\src\\color.cpp:182: error: (-215:Assertion failed) !_src.empty() in function 'cv::cvtColor'\n"
     ]
    }
   ],
   "source": [
    "import cv2\n",
    "from os import listdir\n",
    "import time\n",
    "\n",
    "img_pixel = 96\n",
    "\n",
    "input_path= \"img_people/\"\n",
    "output_path= \"img_features/\"\n",
    "\n",
    "casc_file = \"haarcascade_frontalface_default.xml\"\n",
    "\n",
    "def cropImage(img, box, fname):\n",
    "    [p, q, r, s] = box\n",
    "    write_img_color= img[q:q+ s, p:p+ r]\n",
    "    saveCropped(write_img_color, fname)\n",
    "\n",
    "def saveCropped(img, fname):\n",
    "    img = cv2.resize(img,(img_pixel,img_pixel),interpolation=cv2.INTER_AREA)\n",
    "    cv2.imwrite(output_path + fname, img)\n",
    "\n",
    "if __name__== \"__main__\":\n",
    "    frontal_face= cv2.CascadeClassifier(casc_file)\n",
    "    input_files= listdir(\"./\"+ input_path)\n",
    "\n",
    "    print(\"Starting to detect faces and save the cropped images...\")\n",
    "    sttime = time.time() \n",
    "    for i, fname in enumerate(input_files):\n",
    "        print(input_path + fname)\n",
    "        color_img= cv2.imread(input_path + fname)\n",
    "\n",
    "        gray_img= cv2.cvtColor(color_img, cv2.COLOR_BGR2GRAY)\n",
    "\n",
    "\n",
    "        bBoxes= frontal_face.detectMultiScale(gray_img, scaleFactor=1.3, \n",
    "                                              minNeighbors=5, \n",
    "                                              minSize=(30, 30),\n",
    "#                                               flags = cv.CV_HAAR_SCALE_IMAGE\n",
    "                                             )\n",
    "\n",
    "        for box in bBoxes:\n",
    "            cropImage(gray_img, box, fname)\n",
    "\n",
    "    print(\"Finished {} imgs in {:.2f} Secs.\" .format(i+1 , (time.time() - sttime)))  "
   ]
  },
  {
   "cell_type": "code",
   "execution_count": null,
   "metadata": {},
   "outputs": [],
   "source": []
  }
 ],
 "metadata": {
  "kernelspec": {
   "display_name": "Python 3 (ipykernel)",
   "language": "python",
   "name": "python3"
  },
  "language_info": {
   "codemirror_mode": {
    "name": "ipython",
    "version": 3
   },
   "file_extension": ".py",
   "mimetype": "text/x-python",
   "name": "python",
   "nbconvert_exporter": "python",
   "pygments_lexer": "ipython3",
   "version": "3.9.12"
  }
 },
 "nbformat": 4,
 "nbformat_minor": 4
}
