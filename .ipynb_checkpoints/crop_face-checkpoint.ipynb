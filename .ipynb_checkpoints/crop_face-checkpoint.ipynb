{
 "cells": [
  {
   "cell_type": "code",
   "execution_count": 3,
   "metadata": {},
   "outputs": [
    {
     "data": {
      "text/plain": [
       "'4.0.1'"
      ]
     },
     "execution_count": 3,
     "metadata": {},
     "output_type": "execute_result"
    }
   ],
   "source": [
    "import cv2\n",
    "cv2.__version__"
   ]
  },
  {
   "cell_type": "code",
   "execution_count": 3,
   "metadata": {},
   "outputs": [
    {
     "name": "stdout",
     "output_type": "stream",
     "text": [
      "Starting to detect faces and save the cropped images...\n",
      "test_faceRecognition/img_people/IMG_20210608_135743 (1).jpg\n",
      "test_faceRecognition/img_people/IMG_20210608_135743.jpg\n",
      "test_faceRecognition/img_people/IMG_20210609_112909.jpg\n",
      "Finished 3 imgs in 2.22 Secs.\n"
     ]
    }
   ],
   "source": [
    "import cv2\n",
    "from os import listdir\n",
    "import time\n",
    "\n",
    "img_pixel = 96 \n",
    "\n",
    "input_path= \"test_faceRecognition/img_people/\"\n",
    "output_path= \"test_faceRecognition/img_features/\"\n",
    "\n",
    "casc_file = \"haarcascade_frontalface_default.xml\"\n",
    "\n",
    "def cropImage(img, box, fname):\n",
    "    [p, q, r, s] = box\n",
    "    write_img_color= img[q:q+ s, p:p+ r]\n",
    "    saveCropped(write_img_color, fname)\n",
    "\n",
    "def saveCropped(img, fname):\n",
    "    img = cv2.resize(img,(img_pixel,img_pixel),interpolation=cv2.INTER_AREA)\n",
    "    cv2.imwrite(output_path + fname, img)\n",
    "\n",
    "if __name__== \"__main__\":\n",
    "    frontal_face= cv2.CascadeClassifier(casc_file)\n",
    "    input_files= listdir(\"./\"+ input_path)\n",
    "\n",
    "    print(\"Starting to detect faces and save the cropped images...\")\n",
    "    sttime = time.time() \n",
    "    for i, fname in enumerate(input_files):\n",
    "        print(input_path + fname)\n",
    "        color_img= cv2.imread(input_path + fname)\n",
    "\n",
    "        gray_img= cv2.cvtColor(color_img, cv2.COLOR_BGR2GRAY)\n",
    "\n",
    "\n",
    "        bBoxes= frontal_face.detectMultiScale(gray_img, scaleFactor=1.3, \n",
    "                                              minNeighbors=5, \n",
    "                                              minSize=(30, 30),\n",
    "#                                               flags = cv.CV_HAAR_SCALE_IMAGE\n",
    "                                             )\n",
    "\n",
    "        for box in bBoxes:\n",
    "            cropImage(gray_img, box, fname)\n",
    "\n",
    "    print(\"Finished {} imgs in {:.2f} Secs.\" .format(i+1 , (time.time() - sttime)))  "
   ]
  },
  {
   "cell_type": "code",
   "execution_count": null,
   "metadata": {},
   "outputs": [],
   "source": []
  }
 ],
 "metadata": {
  "kernelspec": {
   "display_name": "Python 3",
   "language": "python",
   "name": "python3"
  },
  "language_info": {
   "codemirror_mode": {
    "name": "ipython",
    "version": 3
   },
   "file_extension": ".py",
   "mimetype": "text/x-python",
   "name": "python",
   "nbconvert_exporter": "python",
   "pygments_lexer": "ipython3",
   "version": "3.8.5"
  }
 },
 "nbformat": 4,
 "nbformat_minor": 4
}
