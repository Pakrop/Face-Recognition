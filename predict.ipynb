{
 "cells": [
  {
   "cell_type": "code",
   "execution_count": 1,
   "metadata": {},
   "outputs": [
    {
     "ename": "AttributeError",
     "evalue": "module 'cv2' has no attribute 'face'",
     "output_type": "error",
     "traceback": [
      "\u001b[1;31m---------------------------------------------------------------------------\u001b[0m",
      "\u001b[1;31mAttributeError\u001b[0m                            Traceback (most recent call last)",
      "Input \u001b[1;32mIn [1]\u001b[0m, in \u001b[0;36m<cell line: 4>\u001b[1;34m()\u001b[0m\n\u001b[0;32m      1\u001b[0m \u001b[38;5;28;01mimport\u001b[39;00m \u001b[38;5;21;01mcv2\u001b[39;00m   \n\u001b[0;32m      2\u001b[0m \u001b[38;5;28;01mimport\u001b[39;00m \u001b[38;5;21;01mpandas\u001b[39;00m \u001b[38;5;28;01mas\u001b[39;00m \u001b[38;5;21;01mpd\u001b[39;00m\n\u001b[1;32m----> 4\u001b[0m face_model \u001b[38;5;241m=\u001b[39m \u001b[43mcv2\u001b[49m\u001b[38;5;241;43m.\u001b[39;49m\u001b[43mface\u001b[49m\u001b[38;5;241m.\u001b[39mLBPHFaceRecognizer_create()\n\u001b[0;32m      5\u001b[0m face_model\u001b[38;5;241m.\u001b[39mread(\u001b[38;5;124m'\u001b[39m\u001b[38;5;124mfacemodel.xml\u001b[39m\u001b[38;5;124m'\u001b[39m)\n\u001b[0;32m      6\u001b[0m scale \u001b[38;5;241m=\u001b[39m \u001b[38;5;241m0.5\u001b[39m  \n",
      "\u001b[1;31mAttributeError\u001b[0m: module 'cv2' has no attribute 'face'"
     ]
    }
   ],
   "source": [
    "import cv2   \n",
    "import pandas as pd\n",
    "\n",
    "face_model = cv2.face.LBPHFaceRecognizer_create()\n",
    "face_model.read('facemodel.xml')\n",
    "scale = 0.5  \n",
    "feature_size = (96, 96) \n",
    "\n",
    "label_file = 'labels.csv'\n",
    "df = pd.read_csv(label_file)\n",
    "y_label = df.name\n",
    "\n",
    "casc_file = \"haarcascade_frontalface_default.xml\"\n",
    "frontal_face = cv2.CascadeClassifier(casc_file)  # Create the haar cascade\n",
    "\n",
    "faces = []\n",
    "\n",
    "cap = cv2.VideoCapture(0) # cam\n",
    "cap.set(3, 1024) \n",
    "cap.set(4, 768) \n",
    "\n",
    "if (cap.isOpened()== False):  \n",
    "    print(\"Could not open a camera\") \n",
    "\n",
    "\n",
    "def detect_faces(image):\n",
    "    bBoxes = frontal_face.detectMultiScale(image, scaleFactor=1.3, \n",
    "        minNeighbors=5, minSize=(30, 30)) \n",
    "    return bBoxes    \n",
    "    \n",
    "frame_counter = 0\n",
    "while(cap.isOpened()): \n",
    "    ret, frame = cap.read() \n",
    "\n",
    "    if ret == True: \n",
    "        color_image = frame\n",
    "        frame_counter += 1\n",
    "\n",
    "        if frame_counter >= cap.get(cv2.CAP_PROP_FRAME_COUNT):\n",
    "            frame_counter = 0 \n",
    "            cap.set(cv2.CAP_PROP_POS_FRAMES, 0)\n",
    "            \n",
    "        color_image = cv2.resize(color_image, None,fx=scale,fy=scale,\n",
    "                                 interpolation=cv2.INTER_AREA)\n",
    "\n",
    "        if (frame_counter % 5) == 0:\n",
    "\n",
    "            gray_frame = cv2.cvtColor(color_image, cv2.COLOR_BGR2GRAY)\n",
    "\n",
    "\n",
    "            bBoxes = detect_faces(gray_frame)\n",
    "            for bBox in bBoxes:\n",
    "                (p,q,r,s)= bBox\n",
    "                \n",
    "                cv2.rectangle(color_image, (p,q), (p+r,q+s), (0,255,0), 2)\n",
    "\n",
    "\n",
    "                crop_image = gray_frame[q:q+s, p:p+r]\n",
    "\n",
    "                crop_image = cv2.resize(crop_image, feature_size) # ksb\n",
    "                [pred_label, pred_conf]= face_model.predict(crop_image)\n",
    "\n",
    "                box_bg = (0, 255, 0)\n",
    "                cv2.rectangle(color_image, (p,q), (p+95,q-22), box_bg, cv2.FILLED)\n",
    "\n",
    "                box_text= y_label[pred_label][:7]\n",
    "                txt_color = (100,0,215)\n",
    "                cv2.putText(color_image, box_text, (p+4, q-4), \n",
    "                            cv2.FONT_HERSHEY_PLAIN, 1.0, txt_color, 2)\n",
    "\n",
    "            cv2.imshow('Mywindow', color_image) \n",
    "\n",
    "        if cv2.waitKey(10) & 0xFF == 27: \n",
    "            break\n",
    "   \n",
    "    else:  \n",
    "        break\n",
    "\n",
    "        \n",
    "cap.release() \n",
    "cv2.destroyAllWindows()"
   ]
  },
  {
   "cell_type": "code",
   "execution_count": null,
   "metadata": {},
   "outputs": [],
   "source": [
    "pip install opencv-python"
   ]
  },
  {
   "cell_type": "code",
   "execution_count": null,
   "metadata": {},
   "outputs": [],
   "source": []
  },
  {
   "cell_type": "code",
   "execution_count": null,
   "metadata": {},
   "outputs": [],
   "source": []
  }
 ],
 "metadata": {
  "kernelspec": {
   "display_name": "Python 3 (ipykernel)",
   "language": "python",
   "name": "python3"
  },
  "language_info": {
   "codemirror_mode": {
    "name": "ipython",
    "version": 3
   },
   "file_extension": ".py",
   "mimetype": "text/x-python",
   "name": "python",
   "nbconvert_exporter": "python",
   "pygments_lexer": "ipython3",
   "version": "3.9.12"
  }
 },
 "nbformat": 4,
 "nbformat_minor": 4
}
